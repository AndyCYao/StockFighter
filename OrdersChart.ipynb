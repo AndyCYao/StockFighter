{
 "cells": [
  {
   "cell_type": "code",
   "execution_count": 25,
   "metadata": {
    "collapsed": false,
    "scrolled": false,
    "slideshow": {
     "slide_type": "slide"
    }
   },
   "outputs": [],
   "source": [
    "import json\n",
    "import matplotlib.pyplot as plt\n",
    "import pandas as pd\n",
    "import numpy as np\n",
    "%matplotlib inline\n",
    "\n",
    "# parse the ResultOrders into a table\n",
    "with open('resultorders.json','r') as ordersjson:\n",
    "    orders = json.load(ordersjson)\n",
    "column_names = []\n",
    "first_item = list(orders.keys())[0]\n",
    "for v in orders[first_item]:\n",
    "    if not v in 'fills':\n",
    "        column_names.append(v)\n",
    "column_names.append('cash')\n",
    "\n",
    "table = []\n",
    "for k, v in orders.items():\n",
    "    selected_rows = []\n",
    "    for column in v:\n",
    "        if column == 'fills':\n",
    "            total_cash = 0\n",
    "            for fill in v['fills']:\n",
    "                total_cash += fill['qty'] * fill['price'] * .01\n",
    "        else:\n",
    "            selected_rows.append(v[column])\n",
    "    selected_rows.append(total_cash)\n",
    "    table.append(selected_rows)\n",
    "\n",
    "df = pd.DataFrame(table, columns=column_names)\n",
    "df['ts'] = pd.to_datetime(df['ts'])\n",
    "\n",
    "# Load the quotes dataframe\n",
    "quotes = pd.read_json('ResultQuoteSocket.json')\n",
    "quotes['quoteTime'] = pd.to_datetime(quotes['quoteTime'])\n",
    "quotes['lastTrade'] = pd.to_datetime(quotes['lastTrade'])\n",
    "last = quotes[\"last\"].iloc[-1]\n",
    "if last is None:\n",
    "    last = 0"
   ]
  },
  {
   "cell_type": "code",
   "execution_count": 26,
   "metadata": {
    "collapsed": true
   },
   "outputs": [],
   "source": [
    "def update_open_orders(orders):\n",
    "    \"\"\"Loop through my orders and return positionSoFar, cash, and expectedPosition.\"\"\"\n",
    "    position_so_far = 0\n",
    "    cash = 0\n",
    "    expected_positions = 0\n",
    "    for y in orders:\n",
    "        total_filled = 0\n",
    "        total_cost = 0\n",
    "        x = orders[y]            \n",
    "        # print \"\\n%r\" % (x)\n",
    "        for fill in x['fills']:\n",
    "            total_filled += fill['qty']\n",
    "            total_cost += fill['qty'] * fill[\"price\"]\n",
    "        qty = x[\"qty\"] + total_filled  # x['qty'] becomes 0 if the order is cancelled. so we just add that to how much is filled already\n",
    "        direction = x[\"direction\"]\n",
    "        if direction == \"sell\":\n",
    "            total_filled = total_filled * -1\n",
    "            total_cost = total_cost * -1\n",
    "            qty = qty * -1\n",
    "        position_so_far += total_filled\n",
    "        expected_positions += qty            \n",
    "        cash += total_cost * (-.01)  # -.01 because we are getting the correct unit\n",
    "    return position_so_far, cash, expected_positions\n",
    "\n"
   ]
  },
  {
   "cell_type": "code",
   "execution_count": 27,
   "metadata": {
    "collapsed": false,
    "scrolled": false
   },
   "outputs": [
    {
     "data": {
      "text/plain": [
       "'\\nfor account in df[\\'account\\'].unique():\\n    acc_trades = df[df[\\'account\\'] == account]\\n    if (len(acc_trades) > 5):\\n        #player_orders = {k: v for k, v in orders.items() if v[\\'account\\'] == account}\\n        #positionSoFar, cash, expectedPos = update_open_orders(player_orders)\\n        #nav = cash + positionSoFar * last * (.01)\\n        # bought_positions = acc_trades[acc_trades[\\'direction\\'] == \\'buy\\'][\\'totalFilled\\']\\n        # sold_positions = acc_trades[acc_trades[\\'direction\\'] == \\'sell\\'][\\'totalFilled\\']        \\n        # positionSoFar = bought_positions - sold_positions        \\n        # print \"\\nAccount: %r\\nPosition: %r\\nCash: %r\\nNAV: %r\\nNumber of orders: %r\" % (account, positionSoFar, \\n        #                                                                                 cash, nav, len(player_orders))\\n        pivoted = pd.pivot_table(acc_trades[[\\'ts\\',\\'direction\\',\\'price\\']], \\n                                     values=\\'price\\', \\n                                     columns=\\'direction\\', index=\\'ts\\')\\n        pivoted.plot(figsize= (15,5))\\n        plt.title(\\'Trade Price over Time for %s\\' %(account))\\n        plt.show()\\n'"
      ]
     },
     "execution_count": 27,
     "metadata": {},
     "output_type": "execute_result"
    }
   ],
   "source": [
    "\"\"\"\n",
    "for account in df['account'].unique():\n",
    "    acc_trades = df[df['account'] == account]\n",
    "    if (len(acc_trades) > 5):\n",
    "        #player_orders = {k: v for k, v in orders.items() if v['account'] == account}\n",
    "        #positionSoFar, cash, expectedPos = update_open_orders(player_orders)\n",
    "        #nav = cash + positionSoFar * last * (.01)\n",
    "        # bought_positions = acc_trades[acc_trades['direction'] == 'buy']['totalFilled']\n",
    "        # sold_positions = acc_trades[acc_trades['direction'] == 'sell']['totalFilled']        \n",
    "        # positionSoFar = bought_positions - sold_positions        \n",
    "        # print \"\\nAccount: %r\\nPosition: %r\\nCash: %r\\nNAV: %r\\nNumber of orders: %r\" % (account, positionSoFar, \n",
    "        #                                                                                 cash, nav, len(player_orders))\n",
    "        pivoted = pd.pivot_table(acc_trades[['ts','direction','price']], \n",
    "                                     values='price', \n",
    "                                     columns='direction', index='ts')\n",
    "        pivoted.plot(figsize= (15,5))\n",
    "        plt.title('Trade Price over Time for %s' %(account))\n",
    "        plt.show()\n",
    "\"\"\""
   ]
  },
  {
   "cell_type": "code",
   "execution_count": null,
   "metadata": {
    "collapsed": false
   },
   "outputs": [],
   "source": []
  },
  {
   "cell_type": "code",
   "execution_count": 28,
   "metadata": {
    "collapsed": false,
    "scrolled": true
   },
   "outputs": [],
   "source": [
    "# df.loc[(df['account'] == 'ISS83432725') & (df['direction'] == 'buy')]"
   ]
  },
  {
   "cell_type": "code",
   "execution_count": 49,
   "metadata": {
    "collapsed": false,
    "scrolled": false
   },
   "outputs": [
    {
     "data": {
      "text/html": [
       "<div>\n",
       "<table border=\"1\" class=\"dataframe\">\n",
       "  <thead>\n",
       "    <tr style=\"text-align: right;\">\n",
       "      <th></th>\n",
       "      <th>totalFilled</th>\n",
       "      <th>cash</th>\n",
       "      <th>NAV</th>\n",
       "    </tr>\n",
       "    <tr>\n",
       "      <th>account</th>\n",
       "      <th></th>\n",
       "      <th></th>\n",
       "      <th></th>\n",
       "    </tr>\n",
       "  </thead>\n",
       "  <tbody>\n",
       "    <tr>\n",
       "      <th>MPB97230146</th>\n",
       "      <td>-7243</td>\n",
       "      <td>449184.47</td>\n",
       "      <td>5188.57</td>\n",
       "    </tr>\n",
       "    <tr>\n",
       "      <th>CES45554999</th>\n",
       "      <td>38</td>\n",
       "      <td>-2615.71</td>\n",
       "      <td>-286.31</td>\n",
       "    </tr>\n",
       "  </tbody>\n",
       "</table>\n",
       "</div>"
      ],
      "text/plain": [
       "             totalFilled       cash      NAV\n",
       "account                                     \n",
       "MPB97230146        -7243  449184.47  5188.57\n",
       "CES45554999           38   -2615.71  -286.31"
      ]
     },
     "execution_count": 49,
     "metadata": {},
     "output_type": "execute_result"
    }
   ],
   "source": [
    "\"\"\"\n",
    "acc_trades = df[df['account'] == 'ISS83432725']\n",
    "acc_trades.loc[acc_trades.direction == 'buy', 'cash'] *= -1\n",
    "acc_trades.loc[acc_trades.direction == 'sell', 'totalFilled'] *= -1\n",
    "acc_trades[['totalFilled','cash','direction']].groupby('direction').head()\n",
    "\"\"\"\n",
    "acc_trades = df\n",
    "acc_trades.loc[acc_trades.direction == 'buy', 'cash'] *= -1\n",
    "acc_trades.loc[acc_trades.direction == 'sell', 'totalFilled'] *= -1\n",
    "acc_group = acc_trades[['totalFilled','cash','direction','account']].groupby('account').sum()\n",
    "acc_group['NAV'] = acc_group['totalFilled'] * (last * .01) + acc_group['cash']\n",
    "acc_group.sort_values(by = 'NAV',ascending = False).head(5)"
   ]
  },
  {
   "cell_type": "code",
   "execution_count": 30,
   "metadata": {
    "collapsed": false,
    "scrolled": true
   },
   "outputs": [],
   "source": [
    "# combined = pd.merge(df, quotes, how = 'outer', left_on='ts', right_on = 'lastTrade')\n",
    "# combined.dtypes"
   ]
  },
  {
   "cell_type": "code",
   "execution_count": 31,
   "metadata": {
    "collapsed": false
   },
   "outputs": [],
   "source": [
    "#combined.to_excel(\"combined.xlsx\")"
   ]
  },
  {
   "cell_type": "code",
   "execution_count": null,
   "metadata": {
    "collapsed": true
   },
   "outputs": [],
   "source": []
  }
 ],
 "metadata": {
  "kernelspec": {
   "display_name": "Python 2",
   "language": "python",
   "name": "python2"
  },
  "language_info": {
   "codemirror_mode": {
    "name": "ipython",
    "version": 2
   },
   "file_extension": ".py",
   "mimetype": "text/x-python",
   "name": "python",
   "nbconvert_exporter": "python",
   "pygments_lexer": "ipython2",
   "version": "2.7.11"
  }
 },
 "nbformat": 4,
 "nbformat_minor": 0
}

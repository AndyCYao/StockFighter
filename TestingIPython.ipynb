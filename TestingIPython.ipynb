{
 "cells": [
  {
   "cell_type": "code",
   "execution_count": 9,
   "metadata": {
    "collapsed": false,
    "scrolled": false,
    "slideshow": {
     "slide_type": "slide"
    }
   },
   "outputs": [
    {
     "data": {
      "text/plain": [
       "WAN43704799    282\n",
       "FWB76800633    183\n",
       "CAM41903614    131\n",
       "CES93331441     20\n",
       "Name: account, dtype: int64"
      ]
     },
     "execution_count": 9,
     "metadata": {},
     "output_type": "execute_result"
    }
   ],
   "source": [
    "import json\n",
    "import matplotlib.pyplot as plt\n",
    "import pandas as pd\n",
    "import numpy as np\n",
    "# import datetime\n",
    "# parse the ResultOrders into a table\n",
    "with open('resultorders.json','r') as ordersjson:\n",
    "    orders = json.load(ordersjson)\n",
    "\n",
    "column_names = []\n",
    "for v in orders[\"0\"]:\n",
    "    if not v in 'fills':\n",
    "        column_names.append(v)\n",
    "\n",
    "table = []\n",
    "for k, v in orders.items():\n",
    "    selected_rows = []\n",
    "    for column in v:\n",
    "        if column in column_names:\n",
    "            selected_rows.append(v[column])\n",
    "    table.append(selected_rows)\n",
    "\n",
    "df = pd.DataFrame(table, columns=column_names)\n",
    "df['account'].value_counts()"
   ]
  },
  {
   "cell_type": "code",
   "execution_count": 10,
   "metadata": {
    "collapsed": false,
    "scrolled": true
   },
   "outputs": [
    {
     "data": {
      "text/plain": [
       "direction      object\n",
       "ok               bool\n",
       "originalQty     int64\n",
       "orderType      object\n",
       "symbol         object\n",
       "venue          object\n",
       "ts             object\n",
       "qty             int64\n",
       "price           int64\n",
       "account        object\n",
       "totalFilled     int64\n",
       "open             bool\n",
       "id              int64\n",
       "dtype: object"
      ]
     },
     "execution_count": 10,
     "metadata": {},
     "output_type": "execute_result"
    }
   ],
   "source": [
    "df.dtypes"
   ]
  },
  {
   "cell_type": "code",
   "execution_count": 18,
   "metadata": {
    "collapsed": false
   },
   "outputs": [],
   "source": [
    "df['ts'] = pd.to_datetime(df['ts'])"
   ]
  },
  {
   "cell_type": "code",
   "execution_count": 38,
   "metadata": {
    "collapsed": false,
    "scrolled": true
   },
   "outputs": [],
   "source": [
    "df.to_excel('results.xlsx', 'Sheet1')"
   ]
  }
 ],
 "metadata": {
  "kernelspec": {
   "display_name": "Python 2",
   "language": "python",
   "name": "python2"
  },
  "language_info": {
   "codemirror_mode": {
    "name": "ipython",
    "version": 2
   },
   "file_extension": ".py",
   "mimetype": "text/x-python",
   "name": "python",
   "nbconvert_exporter": "python",
   "pygments_lexer": "ipython2",
   "version": "2.7.11"
  }
 },
 "nbformat": 4,
 "nbformat_minor": 0
}
